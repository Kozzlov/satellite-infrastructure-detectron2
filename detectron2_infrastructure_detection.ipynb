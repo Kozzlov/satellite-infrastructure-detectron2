version https://git-lfs.github.com/spec/v1
oid sha256:dd763d4a5fa2e7a604632584d6e23f68f83e338632d7ca1bdd7c94f3b5fa9c1b
size 10853106
